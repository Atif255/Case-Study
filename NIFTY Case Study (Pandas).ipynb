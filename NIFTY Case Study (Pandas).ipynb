{
 "cells": [
  {
   "cell_type": "code",
   "execution_count": 1,
   "id": "fb72d0f8",
   "metadata": {},
   "outputs": [],
   "source": [
    "import numpy as np\n",
    "import pandas as pd"
   ]
  },
  {
   "cell_type": "code",
   "execution_count": 2,
   "id": "2506b868",
   "metadata": {},
   "outputs": [
    {
     "data": {
      "text/html": [
       "<div>\n",
       "<style scoped>\n",
       "    .dataframe tbody tr th:only-of-type {\n",
       "        vertical-align: middle;\n",
       "    }\n",
       "\n",
       "    .dataframe tbody tr th {\n",
       "        vertical-align: top;\n",
       "    }\n",
       "\n",
       "    .dataframe thead th {\n",
       "        text-align: right;\n",
       "    }\n",
       "</style>\n",
       "<table border=\"1\" class=\"dataframe\">\n",
       "  <thead>\n",
       "    <tr style=\"text-align: right;\">\n",
       "      <th></th>\n",
       "      <th>Date</th>\n",
       "      <th>Close</th>\n",
       "    </tr>\n",
       "  </thead>\n",
       "  <tbody>\n",
       "    <tr>\n",
       "      <th>0</th>\n",
       "      <td>2019-01-01</td>\n",
       "      <td>10910.10</td>\n",
       "    </tr>\n",
       "    <tr>\n",
       "      <th>1</th>\n",
       "      <td>2019-01-02</td>\n",
       "      <td>10792.50</td>\n",
       "    </tr>\n",
       "    <tr>\n",
       "      <th>2</th>\n",
       "      <td>2019-01-03</td>\n",
       "      <td>10672.25</td>\n",
       "    </tr>\n",
       "    <tr>\n",
       "      <th>3</th>\n",
       "      <td>2019-01-04</td>\n",
       "      <td>10727.35</td>\n",
       "    </tr>\n",
       "    <tr>\n",
       "      <th>4</th>\n",
       "      <td>2019-01-07</td>\n",
       "      <td>10771.80</td>\n",
       "    </tr>\n",
       "    <tr>\n",
       "      <th>...</th>\n",
       "      <td>...</td>\n",
       "      <td>...</td>\n",
       "    </tr>\n",
       "    <tr>\n",
       "      <th>240</th>\n",
       "      <td>2019-12-24</td>\n",
       "      <td>12214.55</td>\n",
       "    </tr>\n",
       "    <tr>\n",
       "      <th>241</th>\n",
       "      <td>2019-12-26</td>\n",
       "      <td>12126.55</td>\n",
       "    </tr>\n",
       "    <tr>\n",
       "      <th>242</th>\n",
       "      <td>2019-12-27</td>\n",
       "      <td>12245.80</td>\n",
       "    </tr>\n",
       "    <tr>\n",
       "      <th>243</th>\n",
       "      <td>2019-12-30</td>\n",
       "      <td>12255.85</td>\n",
       "    </tr>\n",
       "    <tr>\n",
       "      <th>244</th>\n",
       "      <td>2019-12-31</td>\n",
       "      <td>12168.45</td>\n",
       "    </tr>\n",
       "  </tbody>\n",
       "</table>\n",
       "<p>245 rows × 2 columns</p>\n",
       "</div>"
      ],
      "text/plain": [
       "          Date     Close\n",
       "0   2019-01-01  10910.10\n",
       "1   2019-01-02  10792.50\n",
       "2   2019-01-03  10672.25\n",
       "3   2019-01-04  10727.35\n",
       "4   2019-01-07  10771.80\n",
       "..         ...       ...\n",
       "240 2019-12-24  12214.55\n",
       "241 2019-12-26  12126.55\n",
       "242 2019-12-27  12245.80\n",
       "243 2019-12-30  12255.85\n",
       "244 2019-12-31  12168.45\n",
       "\n",
       "[245 rows x 2 columns]"
      ]
     },
     "execution_count": 2,
     "metadata": {},
     "output_type": "execute_result"
    }
   ],
   "source": [
    "nifty = pd.read_excel(\"NIFTY.xlsx\")\n",
    "nifty"
   ]
  },
  {
   "cell_type": "code",
   "execution_count": 3,
   "id": "2b2c12de",
   "metadata": {},
   "outputs": [
    {
     "data": {
      "text/plain": [
       "Date\n",
       "2019-01-01    10910.10\n",
       "2019-01-02    10792.50\n",
       "2019-01-03    10672.25\n",
       "2019-01-04    10727.35\n",
       "2019-01-07    10771.80\n",
       "                ...   \n",
       "2019-12-24    12214.55\n",
       "2019-12-26    12126.55\n",
       "2019-12-27    12245.80\n",
       "2019-12-30    12255.85\n",
       "2019-12-31    12168.45\n",
       "Name: Close, Length: 245, dtype: float64"
      ]
     },
     "execution_count": 3,
     "metadata": {},
     "output_type": "execute_result"
    }
   ],
   "source": [
    "nifty = pd.read_excel(\"NIFTY.xlsx\", index_col=0).iloc[:, 0]\n",
    "nifty"
   ]
  },
  {
   "cell_type": "code",
   "execution_count": 4,
   "id": "d4b7ab1a",
   "metadata": {},
   "outputs": [
    {
     "data": {
      "text/plain": [
       "11432.632244897959"
      ]
     },
     "execution_count": 4,
     "metadata": {},
     "output_type": "execute_result"
    }
   ],
   "source": [
    "np.mean(nifty)"
   ]
  },
  {
   "cell_type": "code",
   "execution_count": 5,
   "id": "4816bd3c",
   "metadata": {},
   "outputs": [
    {
     "data": {
      "text/plain": [
       "11512.4"
      ]
     },
     "execution_count": 5,
     "metadata": {},
     "output_type": "execute_result"
    }
   ],
   "source": [
    "np.median(nifty)"
   ]
  },
  {
   "cell_type": "code",
   "execution_count": 6,
   "id": "d7d62655",
   "metadata": {},
   "outputs": [
    {
     "data": {
      "text/plain": [
       "453.2866947459807"
      ]
     },
     "execution_count": 6,
     "metadata": {},
     "output_type": "execute_result"
    }
   ],
   "source": [
    "np.std(nifty)"
   ]
  },
  {
   "cell_type": "code",
   "execution_count": 7,
   "id": "56907df0",
   "metadata": {},
   "outputs": [
    {
     "data": {
      "text/plain": [
       "205468.8276337359"
      ]
     },
     "execution_count": 7,
     "metadata": {},
     "output_type": "execute_result"
    }
   ],
   "source": [
    "np.var(nifty)"
   ]
  },
  {
   "cell_type": "markdown",
   "id": "c4b7b51a",
   "metadata": {},
   "source": [
    "## Fraction of days, the market close higher than the previous day"
   ]
  },
  {
   "cell_type": "code",
   "execution_count": 8,
   "id": "48277e34",
   "metadata": {},
   "outputs": [
    {
     "data": {
      "text/plain": [
       "Date\n",
       "2019-01-02    10792.50\n",
       "2019-01-03    10672.25\n",
       "2019-01-04    10727.35\n",
       "2019-01-07    10771.80\n",
       "2019-01-08    10802.15\n",
       "                ...   \n",
       "2019-12-24    12214.55\n",
       "2019-12-26    12126.55\n",
       "2019-12-27    12245.80\n",
       "2019-12-30    12255.85\n",
       "2019-12-31    12168.45\n",
       "Name: Close, Length: 244, dtype: float64"
      ]
     },
     "execution_count": 8,
     "metadata": {},
     "output_type": "execute_result"
    }
   ],
   "source": [
    "nifty [1:]"
   ]
  },
  {
   "cell_type": "code",
   "execution_count": 9,
   "id": "807bf2e9",
   "metadata": {},
   "outputs": [
    {
     "data": {
      "text/plain": [
       "Date\n",
       "2019-01-01    10910.10\n",
       "2019-01-02    10792.50\n",
       "2019-01-03    10672.25\n",
       "2019-01-04    10727.35\n",
       "2019-01-07    10771.80\n",
       "                ...   \n",
       "2019-12-23    12262.75\n",
       "2019-12-24    12214.55\n",
       "2019-12-26    12126.55\n",
       "2019-12-27    12245.80\n",
       "2019-12-30    12255.85\n",
       "Name: Close, Length: 244, dtype: float64"
      ]
     },
     "execution_count": 9,
     "metadata": {},
     "output_type": "execute_result"
    }
   ],
   "source": [
    "nifty [:-1]"
   ]
  },
  {
   "cell_type": "code",
   "execution_count": 10,
   "id": "33c3828c",
   "metadata": {},
   "outputs": [
    {
     "data": {
      "text/plain": [
       "244"
      ]
     },
     "execution_count": 10,
     "metadata": {},
     "output_type": "execute_result"
    }
   ],
   "source": [
    "len((nifty.values[1:] - nifty.values[:-1])>0)"
   ]
  },
  {
   "cell_type": "code",
   "execution_count": 11,
   "id": "18e021d0",
   "metadata": {},
   "outputs": [
    {
     "data": {
      "text/plain": [
       "array([-1.1760e+02, -1.2025e+02,  5.5100e+01,  4.4450e+01,  3.0350e+01,\n",
       "        5.3000e+01, -3.3550e+01, -2.6650e+01, -5.7350e+01,  1.4920e+02,\n",
       "        3.5000e+00,  1.4900e+01,  1.7500e+00,  5.4900e+01, -3.9100e+01,\n",
       "       -9.1250e+01,  1.8300e+01, -6.9250e+01, -1.1900e+02, -9.3500e+00,\n",
       "       -4.0000e-01,  1.7915e+02,  6.2700e+01,  1.8600e+01,  2.2100e+01,\n",
       "        1.2810e+02,  6.9500e+00, -1.2580e+02, -5.4800e+01, -5.7400e+01,\n",
       "       -3.7750e+01, -4.7600e+01, -2.1650e+01, -8.3450e+01, -3.6600e+01,\n",
       "        1.3110e+02,  5.4400e+01,  1.8000e+00,  8.8450e+01, -4.4800e+01,\n",
       "       -2.8650e+01, -1.4150e+01,  7.1000e+01,  1.2395e+02,  6.5550e+01,\n",
       "        5.2000e+00, -2.2800e+01,  1.3265e+02,  1.3315e+02,  4.0500e+01,\n",
       "        1.5500e+00,  8.3600e+01,  3.5350e+01,  7.0200e+01, -1.1350e+01,\n",
       "       -6.4150e+01, -1.0265e+02,  1.2900e+02, -3.8200e+01,  1.2495e+02,\n",
       "        5.3900e+01,  4.5250e+01,  4.4050e+01, -6.9250e+01, -4.5950e+01,\n",
       "        6.7950e+01, -6.1450e+01,  6.7450e+01, -8.7650e+01,  1.2400e+01,\n",
       "        4.6750e+01,  4.6900e+01,  9.6800e+01, -3.4350e+01, -1.5835e+02,\n",
       "       -1.8500e+01,  1.5020e+02, -8.4350e+01,  1.1285e+02, -6.5000e+00,\n",
       "       -2.3400e+01, -1.2500e+01, -1.1400e+02, -1.0035e+02, -1.3845e+02,\n",
       "       -5.7650e+01, -2.2900e+01, -1.3070e+02,  7.3850e+01, -6.5050e+01,\n",
       "        1.0010e+02,  1.5005e+02,  4.2110e+02, -1.1915e+02,  2.8800e+01,\n",
       "       -8.0850e+01,  1.8705e+02,  8.0650e+01,  4.0000e+00, -6.7650e+01,\n",
       "        8.4800e+01, -2.3100e+01,  1.6575e+02, -6.6900e+01, -1.7790e+02,\n",
       "        2.6900e+01,  5.2050e+01,  4.2900e+01, -5.9400e+01,  7.8500e+00,\n",
       "       -9.0750e+01, -1.5115e+02,  1.9350e+01, -5.0000e-02,  1.4030e+02,\n",
       "       -1.0765e+02, -2.4450e+01,  9.6800e+01,  5.1100e+01, -6.0000e+00,\n",
       "       -5.2700e+01,  7.6750e+01,  4.4700e+01,  6.4500e+00,  3.0000e+01,\n",
       "       -1.3560e+02, -2.5255e+02, -2.7000e+00, -5.7000e+01,  8.4000e+01,\n",
       "       -3.0400e+01,  3.5850e+01,  7.4250e+01,  2.4900e+01, -9.0600e+01,\n",
       "       -1.7765e+02, -7.3050e+01, -1.5150e+01, -5.9750e+01, -1.9150e+01,\n",
       "        3.2150e+01, -9.5100e+01, -1.0380e+02,  3.2600e+01, -1.3800e+02,\n",
       "        1.7350e+01, -1.3475e+02,  8.5650e+01, -9.2750e+01,  1.7695e+02,\n",
       "        7.7200e+01, -1.8380e+02,  1.0355e+02,  1.8400e+01,  6.1000e+00,\n",
       "       -3.6900e+01, -9.8300e+01, -1.7735e+02,  8.8000e+01,  2.2850e+02,\n",
       "        4.7500e+01, -5.9250e+01, -9.7800e+01,  7.4950e+01, -2.2535e+02,\n",
       "        4.6750e+01,  3.2500e+00,  9.8300e+01,  5.6850e+01,  3.2650e+01,\n",
       "       -5.2900e+01,  9.3100e+01, -7.2400e+01, -1.8590e+02,  2.3050e+01,\n",
       "       -1.3585e+02,  5.6940e+02,  3.2600e+02, -1.2000e+01, -1.4800e+02,\n",
       "        1.3100e+02, -5.8800e+01, -3.7950e+01, -1.1455e+02, -4.5900e+01,\n",
       "       -1.3925e+02, -4.8350e+01,  1.8690e+02, -7.8750e+01,  7.0500e+01,\n",
       "        3.6100e+01,  8.7150e+01,  3.5700e+01,  1.2235e+02,  7.5500e+01,\n",
       "       -7.3500e+01,  1.5750e+01, -2.1500e+01,  1.3000e+00,  4.3250e+01,\n",
       "        1.5970e+02,  5.7250e+01,  3.3350e+01,  1.3150e+01,  5.0700e+01,\n",
       "       -2.4100e+01,  4.8850e+01,  4.6000e+01, -1.0390e+02,  5.3000e+00,\n",
       "       -7.3000e+01,  3.1650e+01,  2.3350e+01, -1.0950e+01,  5.5600e+01,\n",
       "        5.9000e+01, -3.0700e+01, -5.4000e+01,  1.5935e+02, -3.6050e+01,\n",
       "        6.3000e+01,  5.0450e+01, -9.5100e+01, -7.8500e+00, -5.4000e+01,\n",
       "        4.9000e+01, -2.4800e+01, -9.6900e+01,  1.6000e+01, -8.0700e+01,\n",
       "        5.3350e+01,  6.1650e+01,  1.1490e+02, -3.2750e+01,  1.1105e+02,\n",
       "        5.6650e+01,  3.8050e+01,  1.2100e+01, -9.0500e+00, -4.8200e+01,\n",
       "       -8.8000e+01,  1.1925e+02,  1.0050e+01, -8.7400e+01])"
      ]
     },
     "execution_count": 11,
     "metadata": {},
     "output_type": "execute_result"
    }
   ],
   "source": [
    "nifty_difference = nifty.values[1:] - nifty.values[:-1]\n",
    "nifty_difference"
   ]
  },
  {
   "cell_type": "code",
   "execution_count": 12,
   "id": "5002169a",
   "metadata": {},
   "outputs": [
    {
     "data": {
      "text/plain": [
       "0.5265306122448979"
      ]
     },
     "execution_count": 12,
     "metadata": {},
     "output_type": "execute_result"
    }
   ],
   "source": [
    "np.sum (nifty_difference > 0)/len(nifty)"
   ]
  },
  {
   "cell_type": "markdown",
   "id": "4b6b3642",
   "metadata": {},
   "source": [
    "## Compute moving average for the last 5 days"
   ]
  },
  {
   "cell_type": "code",
   "execution_count": 13,
   "id": "2bd3f1ac",
   "metadata": {},
   "outputs": [
    {
     "data": {
      "text/plain": [
       "Timestamp('2019-01-01 00:00:00')"
      ]
     },
     "execution_count": 13,
     "metadata": {},
     "output_type": "execute_result"
    }
   ],
   "source": [
    "nifty.index [0]"
   ]
  },
  {
   "cell_type": "code",
   "execution_count": 14,
   "id": "7193a710",
   "metadata": {},
   "outputs": [],
   "source": [
    "d = pd.Timestamp (nifty.index [0])"
   ]
  },
  {
   "cell_type": "code",
   "execution_count": 15,
   "id": "63c8b29a",
   "metadata": {},
   "outputs": [
    {
     "data": {
      "text/plain": [
       "Timestamp('2019-01-01 00:00:00')"
      ]
     },
     "execution_count": 15,
     "metadata": {},
     "output_type": "execute_result"
    }
   ],
   "source": [
    "d"
   ]
  },
  {
   "cell_type": "code",
   "execution_count": 16,
   "id": "505aa48d",
   "metadata": {},
   "outputs": [
    {
     "data": {
      "text/plain": [
       "1"
      ]
     },
     "execution_count": 16,
     "metadata": {},
     "output_type": "execute_result"
    }
   ],
   "source": [
    "d.dayofweek"
   ]
  },
  {
   "cell_type": "code",
   "execution_count": 17,
   "id": "a3da789e",
   "metadata": {},
   "outputs": [],
   "source": [
    "# 2019-01-01 is Tuesday"
   ]
  },
  {
   "cell_type": "code",
   "execution_count": 18,
   "id": "968ee134",
   "metadata": {},
   "outputs": [],
   "source": [
    "new_index = map  (pd.Timestamp, nifty.index)"
   ]
  },
  {
   "cell_type": "code",
   "execution_count": 19,
   "id": "1a9d8fb5",
   "metadata": {},
   "outputs": [
    {
     "data": {
      "text/plain": [
       "2019-01-01    10910.10\n",
       "2019-01-02    10792.50\n",
       "2019-01-03    10672.25\n",
       "2019-01-04    10727.35\n",
       "2019-01-07    10771.80\n",
       "                ...   \n",
       "2019-12-24    12214.55\n",
       "2019-12-26    12126.55\n",
       "2019-12-27    12245.80\n",
       "2019-12-30    12255.85\n",
       "2019-12-31    12168.45\n",
       "Name: Close, Length: 245, dtype: float64"
      ]
     },
     "execution_count": 19,
     "metadata": {},
     "output_type": "execute_result"
    }
   ],
   "source": [
    "new_nifty = pd.Series  (nifty, index = new_index)\n",
    "new_nifty"
   ]
  },
  {
   "cell_type": "code",
   "execution_count": 20,
   "id": "ef3f96a0",
   "metadata": {},
   "outputs": [
    {
     "data": {
      "text/plain": [
       "Timestamp('2019-01-01 00:00:00')"
      ]
     },
     "execution_count": 20,
     "metadata": {},
     "output_type": "execute_result"
    }
   ],
   "source": [
    "new_nifty.index [0]"
   ]
  },
  {
   "cell_type": "code",
   "execution_count": 21,
   "id": "21180d26",
   "metadata": {},
   "outputs": [
    {
     "data": {
      "text/plain": [
       "2019-01-01    10910.100000\n",
       "2019-01-02    10851.300000\n",
       "2019-01-03    10791.616667\n",
       "2019-01-04    10775.550000\n",
       "2019-01-07    10723.800000\n",
       "                  ...     \n",
       "2019-12-24    12249.700000\n",
       "2019-12-26    12201.283333\n",
       "2019-12-27    12212.412500\n",
       "2019-12-30    12209.400000\n",
       "2019-12-31    12223.366667\n",
       "Name: Close, Length: 245, dtype: float64"
      ]
     },
     "execution_count": 21,
     "metadata": {},
     "output_type": "execute_result"
    }
   ],
   "source": [
    "new_nifty.rolling('5d').mean()"
   ]
  },
  {
   "cell_type": "markdown",
   "id": "f3d9bf31",
   "metadata": {},
   "source": [
    "## Subset the data to include data only for fridays"
   ]
  },
  {
   "cell_type": "code",
   "execution_count": 22,
   "id": "24b1b31c",
   "metadata": {},
   "outputs": [],
   "source": [
    "dow = new_nifty.copy ()\n",
    "for i in dow.index:\n",
    "    dow [i] = i.dayofweek"
   ]
  },
  {
   "cell_type": "code",
   "execution_count": 23,
   "id": "88094d07",
   "metadata": {},
   "outputs": [
    {
     "data": {
      "text/plain": [
       "2019-01-01    1.0\n",
       "2019-01-02    2.0\n",
       "2019-01-03    3.0\n",
       "2019-01-04    4.0\n",
       "2019-01-07    0.0\n",
       "             ... \n",
       "2019-12-24    1.0\n",
       "2019-12-26    3.0\n",
       "2019-12-27    4.0\n",
       "2019-12-30    0.0\n",
       "2019-12-31    1.0\n",
       "Name: Close, Length: 245, dtype: float64"
      ]
     },
     "execution_count": 23,
     "metadata": {},
     "output_type": "execute_result"
    }
   ],
   "source": [
    "dow"
   ]
  },
  {
   "cell_type": "code",
   "execution_count": 24,
   "id": "64337cae",
   "metadata": {},
   "outputs": [
    {
     "data": {
      "text/plain": [
       "2019-01-04    10727.35\n",
       "2019-01-11    10794.95\n",
       "2019-01-18    10906.95\n",
       "2019-01-25    10780.55\n",
       "2019-02-01    10893.65\n",
       "2019-02-08    10943.60\n",
       "2019-02-15    10724.40\n",
       "2019-02-22    10791.65\n",
       "2019-03-01    10863.50\n",
       "2019-03-08    11035.40\n",
       "2019-03-15    11426.85\n",
       "2019-03-22    11456.90\n",
       "2019-03-29    11623.90\n",
       "2019-04-05    11665.95\n",
       "2019-04-12    11643.45\n",
       "2019-04-26    11754.65\n",
       "2019-05-03    11712.25\n",
       "2019-05-10    11278.90\n",
       "2019-05-17    11407.15\n",
       "2019-05-24    11844.10\n",
       "2019-05-31    11922.80\n",
       "2019-06-07    11870.65\n",
       "2019-06-14    11823.30\n",
       "2019-06-21    11724.10\n",
       "2019-06-28    11788.85\n",
       "2019-07-05    11811.15\n",
       "2019-07-12    11552.50\n",
       "2019-07-19    11419.25\n",
       "2019-07-26    11284.30\n",
       "2019-08-02    10997.35\n",
       "2019-08-09    11109.65\n",
       "2019-08-16    11047.80\n",
       "2019-08-23    10829.35\n",
       "2019-08-30    11023.25\n",
       "2019-09-06    10946.20\n",
       "2019-09-13    11075.90\n",
       "2019-09-20    11274.20\n",
       "2019-09-27    11512.40\n",
       "2019-10-04    11174.75\n",
       "2019-10-11    11305.05\n",
       "2019-10-18    11661.85\n",
       "2019-10-25    11583.90\n",
       "2019-11-01    11890.60\n",
       "2019-11-08    11908.15\n",
       "2019-11-15    11895.45\n",
       "2019-11-22    11914.40\n",
       "2019-11-29    12056.05\n",
       "2019-12-06    11921.50\n",
       "2019-12-13    12086.70\n",
       "2019-12-20    12271.80\n",
       "2019-12-27    12245.80\n",
       "Name: Close, dtype: float64"
      ]
     },
     "execution_count": 24,
     "metadata": {},
     "output_type": "execute_result"
    }
   ],
   "source": [
    "new_nifty [dow==4]"
   ]
  }
 ],
 "metadata": {
  "kernelspec": {
   "display_name": "Python 3 (ipykernel)",
   "language": "python",
   "name": "python3"
  },
  "language_info": {
   "codemirror_mode": {
    "name": "ipython",
    "version": 3
   },
   "file_extension": ".py",
   "mimetype": "text/x-python",
   "name": "python",
   "nbconvert_exporter": "python",
   "pygments_lexer": "ipython3",
   "version": "3.9.7"
  }
 },
 "nbformat": 4,
 "nbformat_minor": 5
}
